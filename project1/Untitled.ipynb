{
 "cells": [
  {
   "cell_type": "code",
   "execution_count": 1,
   "id": "competent-salvation",
   "metadata": {},
   "outputs": [
    {
     "name": "stdout",
     "output_type": "stream",
     "text": [
      "torch.Size([1000, 2, 14, 14])\n",
      "torch.Size([1000])\n"
     ]
    }
   ],
   "source": [
    "from dlc_practical_prologue import generate_pair_sets\n",
    "import matplotlib.pyplot as plt\n",
    "\n",
    "import torch\n",
    "from torch import nn\n",
    "from torch.nn import functional as F\n",
    "\n",
    "from models import Baseline\n",
    "\n",
    "train_input, train_target, train_classes, test_input, test_target, test_classes = generate_pair_sets(1000)\n",
    "\n",
    "print(train_input.size())\n",
    "print(train_target.size())"
   ]
  },
  {
   "cell_type": "code",
   "execution_count": 2,
   "id": "psychological-hydrogen",
   "metadata": {},
   "outputs": [
    {
     "name": "stdout",
     "output_type": "stream",
     "text": [
      "torch.Size([392000])\n"
     ]
    }
   ],
   "source": [
    "print(train_input.view(-1).size())"
   ]
  },
  {
   "cell_type": "code",
   "execution_count": 3,
   "id": "opened-discovery",
   "metadata": {},
   "outputs": [
    {
     "name": "stdout",
     "output_type": "stream",
     "text": [
      "torch.Size([1000, 2])\n"
     ]
    }
   ],
   "source": [
    "class Net(nn.Module):\n",
    "    def __init__(self):\n",
    "        super().__init__()\n",
    "        self.fc1 = nn.Linear(392,2)\n",
    "    \n",
    "    def forward(self, x):\n",
    "        x = self.fc1(x.view(1000,-1))\n",
    "        x = F.relu(x)\n",
    "        return x\n",
    "    \n",
    "m = Net()\n",
    "\n",
    "y = m(train_input)\n",
    "print(y.size())"
   ]
  },
  {
   "cell_type": "code",
   "execution_count": 4,
   "id": "young-seeking",
   "metadata": {},
   "outputs": [],
   "source": [
    "model = Baseline(generate_pair_sets)\n",
    "\n",
    "mRes = model.train_and_test_rounds(10)"
   ]
  },
  {
   "cell_type": "code",
   "execution_count": null,
   "id": "outer-climb",
   "metadata": {},
   "outputs": [],
   "source": []
  },
  {
   "cell_type": "code",
   "execution_count": 16,
   "id": "danish-governor",
   "metadata": {},
   "outputs": [
    {
     "data": {
      "image/png": "[encoded data removed]",
      "text/plain": [
       "<Figure size 432x288 with 1 Axes>"
      ]
     },
     "metadata": {
      "needs_background": "light"
     },
     "output_type": "display_data"
    }
   ],
   "source": [
    "colors = ['tab:red', 'tab:green', 'tab:blue', 'tab:orange', 'tab:purple']\n",
    "\n",
    "\n",
    "def plot_models_results_comparison(model_results, nb_rounds):\n",
    "    plot_train_err_rates(model_results, nb_rounds)\n",
    "\n",
    "def plot_model_result(model_result):\n",
    "    pass\n",
    "\n",
    "\n",
    "def plot_train_err_rates(model_results, nb_rounds):\n",
    "    fig = plt.figure()\n",
    "    ax = fig.add_subplot(1, 1, 1)\n",
    "    \n",
    "    ax.set_xlabel('Round', labelpad = nb_rounds)\n",
    "    ax.set_ylabel('Error Rate')\n",
    "    \n",
    "    max_err_rate = max([max(mod_res.train_err_rates) for mod_res in model_results])\n",
    "    ax.set_ylim([0,max_err_rate + 0.05*max_err_rate])\n",
    "    \n",
    "    for i, mod_res in enumerate(model_results):\n",
    "        ax.plot(mod_res.train_err_rates, color = colors[i], label=mod_res.name)\n",
    "    \n",
    "plot_models_results_comparison([mRes],10)"
   ]
  }
 ],
 "metadata": {
  "kernelspec": {
   "display_name": "Python 3",
   "language": "python",
   "name": "python3"
  },
  "language_info": {
   "codemirror_mode": {
    "name": "ipython",
    "version": 3
   },
   "file_extension": ".py",
   "mimetype": "text/x-python",
   "name": "python",
   "nbconvert_exporter": "python",
   "pygments_lexer": "ipython3",
   "version": "3.9.4"
  }
 },
 "nbformat": 4,
 "nbformat_minor": 5
}
